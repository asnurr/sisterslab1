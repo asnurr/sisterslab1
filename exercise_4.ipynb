{
 "cells": [
  {
   "cell_type": "code",
   "execution_count": 6,
   "metadata": {},
   "outputs": [],
   "source": [
    "import pandas as pd\n",
    "import numpy as np\n",
    "import matplotlib.pyplot as plt\n",
    "import requests\n",
    "from bs4 import BeautifulSoup\n",
    "\n",
    "\n"
   ]
  },
  {
   "cell_type": "code",
   "execution_count": 8,
   "metadata": {},
   "outputs": [],
   "source": [
    "url =\"https://kripto.btcturk.com/en/account/api-access\"\n",
    "page = requests.get(url)"
   ]
  },
  {
   "cell_type": "code",
   "execution_count": 9,
   "metadata": {},
   "outputs": [],
   "source": [
    "soup = BeautifulSoup(page.content,\"html.parser\")"
   ]
  },
  {
   "cell_type": "code",
   "execution_count": 10,
   "metadata": {},
   "outputs": [
    {
     "name": "stdout",
     "output_type": "stream",
     "text": [
      "<!DOCTYPE html>\n",
      "<html>\n",
      " <head>\n",
      "  <meta charset=\"utf-8\"/>\n",
      "  <title>\n",
      "   BtcTurk | Kripto - Profesyonelce Bitcoin ve kriptopara al-sat\n",
      "  </title>\n",
      "  <base href=\"/\"/>\n",
      "  <meta content=\"width=device-width, initial-scale=1.0, user-scalable=1.0, minimum-scale=1.0, maximum-scale=1.0\" name=\"viewport\"/>\n",
      "  <meta content=\"app-id=com.btcturk.kripto\" name=\"google-play-app\"/>\n",
      "  <meta content=\"app-id=1471639720\" name=\"apple-itunes-app\"/>\n",
      "  <meta content=\"tPiqb-MbuiDeormeAL5Z9TS-5UL11ePThlzPJTpCzgA\" name=\"google-site-verification\"/>\n",
      "  <meta content=\"BtcTurk | Kripto ile profesyonelce Bitcoin ve kriptopara alın ve satın.\" name=\"description\"/>\n",
      "  <meta content=\"BtcTurk, BtcTurk | Kripto, Kripto Para Borsası, Bitcoin, Ethereum, Tether, Ripple, Ethw, Luna, Lunc, Qnt, Bitcoin Fiyatı, Kripto Para, Kriptopara, Binance, Paribu, Bitexen\" name=\"keywords\"/>\n",
      "  <link href=\"favicon.png\" rel=\"icon\" type=\"image/x-icon\"/>\n",
      "  <link href=\"https://kripto.btcturk.com\" hreflang=\"tr\" rel=\"alternate\"/>\n",
      "  <link href=\"https://kripto.btcturk.com/en\" hreflang=\"en\" rel=\"alternate\"/>\n",
      "  <script src=\"/assets/datafeeds/udf/dist/polyfills.js?v=9.1\" type=\"text/javascript\">\n",
      "  </script>\n",
      "  <script src=\"/assets/datafeeds/udf/dist/bundle.js?v=9.2\" type=\"text/javascript\">\n",
      "  </script>\n",
      "  <script src=\"/assets/nr.js?v=1.0.0\" type=\"text/javascript\">\n",
      "  </script>\n",
      "  <script src=\"/assets/gtm.js?v=1.0.0\" type=\"text/javascript\">\n",
      "  </script>\n",
      "  <!-- Google tag (gtag.js) -->\n",
      "  <script async=\"\" src=\"https://www.googletagmanager.com/gtag/js?id=G-MLKG2HQ8WR\">\n",
      "  </script>\n",
      "  <script>\n",
      "   window.dataLayer = window.dataLayer || [];\n",
      "      function gtag() {\n",
      "        dataLayer.push(arguments);\n",
      "      }\n",
      "      gtag('js', new Date());\n",
      "\n",
      "      gtag('config', 'G-MLKG2HQ8WR');\n",
      "  </script>\n",
      "  <style>\n",
      "   html,\n",
      "      body {\n",
      "        overflow-x: clip;\n",
      "      }\n",
      "  </style>\n",
      "  <style>\n",
      "   *,*:before,*:after{box-sizing:border-box}html{font-family:sans-serif;line-height:1.15;-webkit-text-size-adjust:100%;-webkit-tap-highlight-color:rgba(0,0,0,0)}body{margin:0;font-family:-apple-system,BlinkMacSystemFont,Segoe UI,Roboto,Helvetica Neue,Arial,Noto Sans,Liberation Sans,sans-serif,\"Apple Color Emoji\",\"Segoe UI Emoji\",Segoe UI Symbol,\"Noto Color Emoji\";font-size:1rem;font-weight:400;line-height:1.5;color:#212529;text-align:left;background-color:#fff}html{box-sizing:border-box;-ms-overflow-style:scrollbar}*,*:before,*:after{box-sizing:inherit}:root{--primary-color:#005fae;--basement-color:#f9f9f9;--basement-80-color:rgba(249, 249, 249, .8);--surface-color:#ffffff;--elevation-color:#f0f4f7;--elevation1-color:#e9edf0;--elevation2-color:#dfe3e5;--elevation3-color:#d0d3d6;--elevation4-color:#c5c8c9;--default-color:#70798c;--focus-color:#070910;--purelight-color:#ffffff;--puredark-color:#000000;--action1-color:#09b94f;--action2-color:#e2523e;--action3-color:#ffac2b;--action2-opacity-color:rgba(173, 64, 62, .2);--primary-color-functional:#00437b;--action1-color-functional:#089c43;--action2-color-functional:#ce341f}:root{--primary-color:#005fae;--basement-color:#f9f9f9;--basement-80-color:rgba(249, 249, 249, .8);--surface-color:#ffffff;--elevation-color:#f0f4f7;--elevation1-color:#e9edf0;--elevation2-color:#dfe3e5;--elevation3-color:#d0d3d6;--elevation4-color:#c5c8c9;--default-color:#70798c;--focus-color:#070910;--purelight-color:#ffffff;--puredark-color:#000000;--action1-color:#09b94f;--action2-color:#e2523e;--action3-color:#ffac2b;--action2-opacity-color:rgba(173, 64, 62, .2);--primary-color-functional:#00437b;--action1-color-functional:#089c43;--action2-color-functional:#ce341f}:root{--primary-color:#005fae;--basement-color:#f9f9f9;--basement-80-color:rgba(249, 249, 249, .8);--surface-color:#ffffff;--elevation-color:#f0f4f7;--elevation1-color:#e9edf0;--elevation2-color:#dfe3e5;--elevation3-color:#d0d3d6;--elevation4-color:#c5c8c9;--default-color:#70798c;--focus-color:#070910;--purelight-color:#ffffff;--puredark-color:#000000;--action1-color:#09b94f;--action2-color:#e2523e;--action3-color:#ffac2b;--action2-opacity-color:rgba(173, 64, 62, .2);--primary-color-functional:#00437b;--action1-color-functional:#089c43;--action2-color-functional:#ce341f}:root{--primary-color:#005fae;--basement-color:#f9f9f9;--basement-80-color:rgba(249, 249, 249, .8);--surface-color:#ffffff;--elevation-color:#f0f4f7;--elevation1-color:#e9edf0;--elevation2-color:#dfe3e5;--elevation3-color:#d0d3d6;--elevation4-color:#c5c8c9;--default-color:#70798c;--focus-color:#070910;--purelight-color:#ffffff;--puredark-color:#000000;--action1-color:#09b94f;--action2-color:#e2523e;--action3-color:#ffac2b;--action2-opacity-color:rgba(173, 64, 62, .2);--primary-color-functional:#00437b;--action1-color-functional:#089c43;--action2-color-functional:#ce341f}:root{--primary-color:#005fae;--basement-color:#f9f9f9;--basement-80-color:rgba(249, 249, 249, .8);--surface-color:#ffffff;--elevation-color:#f0f4f7;--elevation1-color:#e9edf0;--elevation2-color:#dfe3e5;--elevation3-color:#d0d3d6;--elevation4-color:#c5c8c9;--default-color:#70798c;--focus-color:#070910;--purelight-color:#ffffff;--puredark-color:#000000;--action1-color:#09b94f;--action2-color:#e2523e;--action3-color:#ffac2b;--action2-opacity-color:rgba(173, 64, 62, .2);--primary-color-functional:#00437b;--action1-color-functional:#089c43;--action2-color-functional:#ce341f}:root{--primary-color:#005fae;--basement-color:#f9f9f9;--basement-80-color:rgba(249, 249, 249, .8);--surface-color:#ffffff;--elevation-color:#f0f4f7;--elevation1-color:#e9edf0;--elevation2-color:#dfe3e5;--elevation3-color:#d0d3d6;--elevation4-color:#c5c8c9;--default-color:#70798c;--focus-color:#070910;--purelight-color:#ffffff;--puredark-color:#000000;--action1-color:#09b94f;--action2-color:#e2523e;--action3-color:#ffac2b;--action2-opacity-color:rgba(173, 64, 62, .2);--primary-color-functional:#00437b;--action1-color-functional:#089c43;--action2-color-functional:#ce341f}:root{--primary-color:#005fae;--basement-color:#f9f9f9;--basement-80-color:rgba(249, 249, 249, .8);--surface-color:#ffffff;--elevation-color:#f0f4f7;--elevation1-color:#e9edf0;--elevation2-color:#dfe3e5;--elevation3-color:#d0d3d6;--elevation4-color:#c5c8c9;--default-color:#70798c;--focus-color:#070910;--purelight-color:#ffffff;--puredark-color:#000000;--action1-color:#09b94f;--action2-color:#e2523e;--action3-color:#ffac2b;--action2-opacity-color:rgba(173, 64, 62, .2);--primary-color-functional:#00437b;--action1-color-functional:#089c43;--action2-color-functional:#ce341f}:root{--primary-color:#005fae;--basement-color:#f9f9f9;--basement-80-color:rgba(249, 249, 249, .8);--surface-color:#ffffff;--elevation-color:#f0f4f7;--elevation1-color:#e9edf0;--elevation2-color:#dfe3e5;--elevation3-color:#d0d3d6;--elevation4-color:#c5c8c9;--default-color:#70798c;--focus-color:#070910;--purelight-color:#ffffff;--puredark-color:#000000;--action1-color:#09b94f;--action2-color:#e2523e;--action3-color:#ffac2b;--action2-opacity-color:rgba(173, 64, 62, .2);--primary-color-functional:#00437b;--action1-color-functional:#089c43;--action2-color-functional:#ce341f}:root{--primary-color:#005fae;--basement-color:#f9f9f9;--basement-80-color:rgba(249, 249, 249, .8);--surface-color:#ffffff;--elevation-color:#f0f4f7;--elevation1-color:#e9edf0;--elevation2-color:#dfe3e5;--elevation3-color:#d0d3d6;--elevation4-color:#c5c8c9;--default-color:#70798c;--focus-color:#070910;--purelight-color:#ffffff;--puredark-color:#000000;--action1-color:#09b94f;--action2-color:#e2523e;--action3-color:#ffac2b;--action2-opacity-color:rgba(173, 64, 62, .2);--primary-color-functional:#00437b;--action1-color-functional:#089c43;--action2-color-functional:#ce341f}@font-face{font-family:Inter;font-style:normal;font-weight:100;font-display:swap;src:url(/assets/fonts/Inter-Thin.woff2?v=3.19) format(\"woff2\")}@font-face{font-family:Inter;font-style:italic;font-weight:100;font-display:swap;src:url(/assets/fonts/Inter-ThinItalic.woff2?v=3.19) format(\"woff2\")}@font-face{font-family:Inter;font-style:normal;font-weight:200;font-display:swap;src:url(/assets/fonts/Inter-ExtraLight.woff2?v=3.19) format(\"woff2\")}@font-face{font-family:Inter;font-style:italic;font-weight:200;font-display:swap;src:url(/assets/fonts/Inter-ExtraLightItalic.woff2?v=3.19) format(\"woff2\")}@font-face{font-family:Inter;font-style:normal;font-weight:300;font-display:swap;src:url(/assets/fonts/Inter-Light.woff2?v=3.19) format(\"woff2\")}@font-face{font-family:Inter;font-style:italic;font-weight:300;font-display:swap;src:url(/assets/fonts/Inter-LightItalic.woff2?v=3.19) format(\"woff2\")}@font-face{font-family:Inter;font-style:normal;font-weight:400;font-display:swap;src:url(/assets/fonts/Inter-Regular.woff2?v=3.19) format(\"woff2\")}@font-face{font-family:Inter;font-style:italic;font-weight:400;font-display:swap;src:url(/assets/fonts/Inter-Italic.woff2?v=3.19) format(\"woff2\")}@font-face{font-family:Inter;font-style:normal;font-weight:500;font-display:swap;src:url(/assets/fonts/Inter-Medium.woff2?v=3.19) format(\"woff2\")}@font-face{font-family:Inter;font-style:italic;font-weight:500;font-display:swap;src:url(/assets/fonts/Inter-MediumItalic.woff2?v=3.19) format(\"woff2\")}@font-face{font-family:Inter;font-style:normal;font-weight:600;font-display:swap;src:url(/assets/fonts/Inter-SemiBold.woff2?v=3.19) format(\"woff2\")}@font-face{font-family:Inter;font-style:italic;font-weight:600;font-display:swap;src:url(/assets/fonts/Inter-SemiBoldItalic.woff2?v=3.19) format(\"woff2\")}@font-face{font-family:Inter;font-style:normal;font-weight:700;font-display:swap;src:url(/assets/fonts/Inter-Bold.woff2?v=3.19) format(\"woff2\")}@font-face{font-family:Inter;font-style:italic;font-weight:700;font-display:swap;src:url(/assets/fonts/Inter-BoldItalic.woff2?v=3.19) format(\"woff2\")}@font-face{font-family:Inter;font-style:normal;font-weight:800;font-display:swap;src:url(/assets/fonts/Inter-ExtraBold.woff2?v=3.19) format(\"woff2\")}@font-face{font-family:Inter;font-style:italic;font-weight:800;font-display:swap;src:url(/assets/fonts/Inter-ExtraBoldItalic.woff2?v=3.19) format(\"woff2\")}@font-face{font-family:Inter;font-style:normal;font-weight:900;font-display:swap;src:url(/assets/fonts/Inter-Black.woff2?v=3.19) format(\"woff2\")}@font-face{font-family:Inter;font-style:italic;font-weight:900;font-display:swap;src:url(/assets/fonts/Inter-BlackItalic.woff2?v=3.19) format(\"woff2\")}*,*:before,*:after{box-sizing:border-box!important}html{position:relative;right:0;transition:right .5s}@media (prefers-reduced-motion: reduce){html{transition:none}}body{font-family:Inter,sans-serif;font-size:14px;font-weight:400;color:#4a4a4a;background-color:#ebebeb}:root{--primary-color:#005fae;--basement-color:#f9f9f9;--basement-80-color:rgba(249, 249, 249, .8);--surface-color:#ffffff;--elevation-color:#f0f4f7;--elevation1-color:#e9edf0;--elevation2-color:#dfe3e5;--elevation3-color:#d0d3d6;--elevation4-color:#c5c8c9;--default-color:#70798c;--focus-color:#070910;--purelight-color:#ffffff;--puredark-color:#000000;--action1-color:#09b94f;--action2-color:#e2523e;--action3-color:#ffac2b;--action2-opacity-color:rgba(173, 64, 62, .2);--primary-color-functional:#00437b;--action1-color-functional:#089c43;--action2-color-functional:#ce341f}:root{--primary-color:#005fae;--basement-color:#f9f9f9;--basement-80-color:rgba(249, 249, 249, .8);--surface-color:#ffffff;--elevation-color:#f0f4f7;--elevation1-color:#e9edf0;--elevation2-color:#dfe3e5;--elevation3-color:#d0d3d6;--elevation4-color:#c5c8c9;--default-color:#70798c;--focus-color:#070910;--purelight-color:#ffffff;--puredark-color:#000000;--action1-color:#09b94f;--action2-color:#e2523e;--action3-color:#ffac2b;--action2-opacity-color:rgba(173, 64, 62, .2);--primary-color-functional:#00437b;--action1-color-functional:#089c43;--action2-color-functional:#ce341f}:root{--primary-color:#005fae;--basement-color:#f9f9f9;--basement-80-color:rgba(249, 249, 249, .8);--surface-color:#ffffff;--elevation-color:#f0f4f7;--elevation1-color:#e9edf0;--elevation2-color:#dfe3e5;--elevation3-color:#d0d3d6;--elevation4-color:#c5c8c9;--default-color:#70798c;--focus-color:#070910;--purelight-color:#ffffff;--puredark-color:#000000;--action1-color:#09b94f;--action2-color:#e2523e;--action3-color:#ffac2b;--action2-opacity-color:rgba(173, 64, 62, .2);--primary-color-functional:#00437b;--action1-color-functional:#089c43;--action2-color-functional:#ce341f}:root{--primary-color:#005fae;--basement-color:#f9f9f9;--basement-80-color:rgba(249, 249, 249, .8);--surface-color:#ffffff;--elevation-color:#f0f4f7;--elevation1-color:#e9edf0;--elevation2-color:#dfe3e5;--elevation3-color:#d0d3d6;--elevation4-color:#c5c8c9;--default-color:#70798c;--focus-color:#070910;--purelight-color:#ffffff;--puredark-color:#000000;--action1-color:#09b94f;--action2-color:#e2523e;--action3-color:#ffac2b;--action2-opacity-color:rgba(173, 64, 62, .2);--primary-color-functional:#00437b;--action1-color-functional:#089c43;--action2-color-functional:#ce341f}:root{--primary-color:#005fae;--basement-color:#f9f9f9;--basement-80-color:rgba(249, 249, 249, .8);--surface-color:#ffffff;--elevation-color:#f0f4f7;--elevation1-color:#e9edf0;--elevation2-color:#dfe3e5;--elevation3-color:#d0d3d6;--elevation4-color:#c5c8c9;--default-color:#70798c;--focus-color:#070910;--purelight-color:#ffffff;--puredark-color:#000000;--action1-color:#09b94f;--action2-color:#e2523e;--action3-color:#ffac2b;--action2-opacity-color:rgba(173, 64, 62, .2);--primary-color-functional:#00437b;--action1-color-functional:#089c43;--action2-color-functional:#ce341f}:root{--primary-color:#005fae;--basement-color:#f9f9f9;--basement-80-color:rgba(249, 249, 249, .8);--surface-color:#ffffff;--elevation-color:#f0f4f7;--elevation1-color:#e9edf0;--elevation2-color:#dfe3e5;--elevation3-color:#d0d3d6;--elevation4-color:#c5c8c9;--default-color:#70798c;--focus-color:#070910;--purelight-color:#ffffff;--puredark-color:#000000;--action1-color:#09b94f;--action2-color:#e2523e;--action3-color:#ffac2b;--action2-opacity-color:rgba(173, 64, 62, .2);--primary-color-functional:#00437b;--action1-color-functional:#089c43;--action2-color-functional:#ce341f}:root{--swiper-theme-color:#007aff}:root{--swiper-navigation-size:44px}html{font-family:Roboto,sans-serif!important}\n",
      "  </style>\n",
      "  <link href=\"styles.7aec4bac608341ef.css\" media=\"print\" onload=\"this.media='all'\" rel=\"stylesheet\"/>\n",
      "  <noscript>\n",
      "   <link href=\"styles.7aec4bac608341ef.css\" rel=\"stylesheet\"/>\n",
      "  </noscript>\n",
      " </head>\n",
      " <body>\n",
      "  <noscript>\n",
      "   <iframe height=\"0\" src=\"https://www.googletagmanager.com/ns.html?id=GTM-54L33R8\" style=\"display: none; visibility: hidden\" width=\"0\">\n",
      "   </iframe>\n",
      "  </noscript>\n",
      "  <script src=\"/assets/site.js?v=9.4\" type=\"text/javascript\">\n",
      "  </script>\n",
      "  <app-root>\n",
      "  </app-root>\n",
      "  <script src=\"runtime.612228d6a9bf6bcf.js\" type=\"module\">\n",
      "  </script>\n",
      "  <script src=\"polyfills.5e955ead0fe19e89.js\" type=\"module\">\n",
      "  </script>\n",
      "  <script defer=\"\" src=\"scripts.523401b6e2c53480.js\">\n",
      "  </script>\n",
      "  <script src=\"vendor.122e951377af59b8.js\" type=\"module\">\n",
      "  </script>\n",
      "  <script src=\"main.6c2d8451fc6d7d78.js\" type=\"module\">\n",
      "  </script>\n",
      "  <script>\n",
      "   (function(){var js = \"window['__CF$cv$params']={r:'83971b795dc56f8a',t:'MTcwMzIzNDkyMi40ODIwMDA='};_cpo=document.createElement('script');_cpo.nonce='',_cpo.src='/cdn-cgi/challenge-platform/scripts/jsd/main.js',document.getElementsByTagName('head')[0].appendChild(_cpo);\";var _0xh = document.createElement('iframe');_0xh.height = 1;_0xh.width = 1;_0xh.style.position = 'absolute';_0xh.style.top = 0;_0xh.style.left = 0;_0xh.style.border = 'none';_0xh.style.visibility = 'hidden';document.body.appendChild(_0xh);function handler() {var _0xi = _0xh.contentDocument || _0xh.contentWindow.document;if (_0xi) {var _0xj = _0xi.createElement('script');_0xj.innerHTML = js;_0xi.getElementsByTagName('head')[0].appendChild(_0xj);}}if (document.readyState !== 'loading') {handler();} else if (window.addEventListener) {document.addEventListener('DOMContentLoaded', handler);} else {var prev = document.onreadystatechange || function () {};document.onreadystatechange = function (e) {prev(e);if (document.readyState !== 'loading') {document.onreadystatechange = prev;handler();}};}})();\n",
      "  </script>\n",
      " </body>\n",
      "</html>\n",
      "\n"
     ]
    }
   ],
   "source": [
    "print(soup.prettify())"
   ]
  },
  {
   "cell_type": "code",
   "execution_count": 11,
   "metadata": {},
   "outputs": [
    {
     "name": "stdout",
     "output_type": "stream",
     "text": [
      "<script src=\"/assets/datafeeds/udf/dist/polyfills.js?v=9.1\" type=\"text/javascript\"></script>\n",
      "<script src=\"/assets/datafeeds/udf/dist/bundle.js?v=9.2\" type=\"text/javascript\"></script>\n",
      "<script src=\"/assets/nr.js?v=1.0.0\" type=\"text/javascript\"></script>\n",
      "<script src=\"/assets/gtm.js?v=1.0.0\" type=\"text/javascript\"></script>\n",
      "<script async=\"\" src=\"https://www.googletagmanager.com/gtag/js?id=G-MLKG2HQ8WR\"></script>\n",
      "<script>\n",
      "      window.dataLayer = window.dataLayer || [];\n",
      "      function gtag() {\n",
      "        dataLayer.push(arguments);\n",
      "      }\n",
      "      gtag('js', new Date());\n",
      "\n",
      "      gtag('config', 'G-MLKG2HQ8WR');\n",
      "    </script>\n",
      "<script src=\"/assets/site.js?v=9.4\" type=\"text/javascript\"></script>\n",
      "<script src=\"runtime.612228d6a9bf6bcf.js\" type=\"module\"></script>\n",
      "<script src=\"polyfills.5e955ead0fe19e89.js\" type=\"module\"></script>\n",
      "<script defer=\"\" src=\"scripts.523401b6e2c53480.js\"></script>\n",
      "<script src=\"vendor.122e951377af59b8.js\" type=\"module\"></script>\n",
      "<script src=\"main.6c2d8451fc6d7d78.js\" type=\"module\"></script>\n",
      "<script>(function(){var js = \"window['__CF$cv$params']={r:'83971b795dc56f8a',t:'MTcwMzIzNDkyMi40ODIwMDA='};_cpo=document.createElement('script');_cpo.nonce='',_cpo.src='/cdn-cgi/challenge-platform/scripts/jsd/main.js',document.getElementsByTagName('head')[0].appendChild(_cpo);\";var _0xh = document.createElement('iframe');_0xh.height = 1;_0xh.width = 1;_0xh.style.position = 'absolute';_0xh.style.top = 0;_0xh.style.left = 0;_0xh.style.border = 'none';_0xh.style.visibility = 'hidden';document.body.appendChild(_0xh);function handler() {var _0xi = _0xh.contentDocument || _0xh.contentWindow.document;if (_0xi) {var _0xj = _0xi.createElement('script');_0xj.innerHTML = js;_0xi.getElementsByTagName('head')[0].appendChild(_0xj);}}if (document.readyState !== 'loading') {handler();} else if (window.addEventListener) {document.addEventListener('DOMContentLoaded', handler);} else {var prev = document.onreadystatechange || function () {};document.onreadystatechange = function (e) {prev(e);if (document.readyState !== 'loading') {document.onreadystatechange = prev;handler();}};}})();</script>\n"
     ]
    }
   ],
   "source": [
    "# Tüm <script> etiketlerini seç\n",
    "script_tags = soup.find_all(\"script\")\n",
    "\n",
    "# Bulunan <script> etiketlerini yazdır\n",
    "for script in script_tags:\n",
    "    print(script)"
   ]
  },
  {
   "cell_type": "code",
   "execution_count": 13,
   "metadata": {},
   "outputs": [
    {
     "name": "stdout",
     "output_type": "stream",
     "text": [
      "Title: BtcTurk | Kripto - Profesyonelce Bitcoin ve kriptopara al-sat\n",
      "Meta Description: BtcTurk | Kripto ile profesyonelce Bitcoin ve kriptopara alın ve satın.\n",
      "Keywords: BtcTurk, BtcTurk | Kripto, Kripto Para Borsası, Bitcoin, Ethereum, Tether, Ripple, Ethw, Luna, Lunc, Qnt, Bitcoin Fiyatı, Kripto Para, Kriptopara, Binance, Paribu, Bitexen\n",
      "\n",
      "\n"
     ]
    }
   ],
   "source": [
    "# İlgili etiketleri seçerek veri çekme işlemi\n",
    "title_element = soup.find(\"title\")\n",
    "meta_description_element = soup.find(\"meta\", {\"name\": \"description\"})\n",
    "keywords_element = soup.find(\"meta\", {\"name\": \"keywords\"})\n",
    "\n",
    "# Çekilen verileri yazdır\n",
    "if title_element:\n",
    "    print(\"Title:\", title_element.text.strip())\n",
    "\n",
    "if meta_description_element:\n",
    "    print(\"Meta Description:\", meta_description_element[\"content\"].strip())\n",
    "\n",
    "if keywords_element:\n",
    "    print(\"Keywords:\", keywords_element[\"content\"].strip())\n"
   ]
  },
  {
   "cell_type": "code",
   "execution_count": 16,
   "metadata": {},
   "outputs": [
    {
     "ename": "AttributeError",
     "evalue": "ResultSet object has no attribute 'find'. You're probably treating a list of elements like a single element. Did you call find_all() when you meant to call find()?",
     "output_type": "error",
     "traceback": [
      "\u001b[1;31m---------------------------------------------------------------------------\u001b[0m",
      "\u001b[1;31mAttributeError\u001b[0m                            Traceback (most recent call last)",
      "Cell \u001b[1;32mIn[16], line 3\u001b[0m\n\u001b[0;32m      1\u001b[0m \u001b[38;5;28mlist\u001b[39m \u001b[38;5;241m=\u001b[39m []\n\u001b[0;32m      2\u001b[0m \u001b[38;5;28;01mfor\u001b[39;00m i \u001b[38;5;129;01min\u001b[39;00m script_tags:\n\u001b[1;32m----> 3\u001b[0m      title_element \u001b[38;5;241m=\u001b[39m \u001b[43mscript_tags\u001b[49m\u001b[38;5;241;43m.\u001b[39;49m\u001b[43mfind\u001b[49m()\n\u001b[0;32m      5\u001b[0m title\u001b[38;5;241m=\u001b[39m title_element\u001b[38;5;241m.\u001b[39mtext\u001b[38;5;241m.\u001b[39mstrip()\n\u001b[0;32m      6\u001b[0m \u001b[38;5;28mprint\u001b[39m(title)\n",
      "File \u001b[1;32mc:\\Users\\aynel\\AppData\\Local\\Programs\\Python\\Python310\\lib\\site-packages\\bs4\\element.py:2428\u001b[0m, in \u001b[0;36mResultSet.__getattr__\u001b[1;34m(self, key)\u001b[0m\n\u001b[0;32m   2426\u001b[0m \u001b[38;5;28;01mdef\u001b[39;00m \u001b[38;5;21m__getattr__\u001b[39m(\u001b[38;5;28mself\u001b[39m, key):\n\u001b[0;32m   2427\u001b[0m \u001b[38;5;250m    \u001b[39m\u001b[38;5;124;03m\"\"\"Raise a helpful exception to explain a common code fix.\"\"\"\u001b[39;00m\n\u001b[1;32m-> 2428\u001b[0m     \u001b[38;5;28;01mraise\u001b[39;00m \u001b[38;5;167;01mAttributeError\u001b[39;00m(\n\u001b[0;32m   2429\u001b[0m         \u001b[38;5;124m\"\u001b[39m\u001b[38;5;124mResultSet object has no attribute \u001b[39m\u001b[38;5;124m'\u001b[39m\u001b[38;5;132;01m%s\u001b[39;00m\u001b[38;5;124m'\u001b[39m\u001b[38;5;124m. You\u001b[39m\u001b[38;5;124m'\u001b[39m\u001b[38;5;124mre probably treating a list of elements like a single element. Did you call find_all() when you meant to call find()?\u001b[39m\u001b[38;5;124m\"\u001b[39m \u001b[38;5;241m%\u001b[39m key\n\u001b[0;32m   2430\u001b[0m     )\n",
      "\u001b[1;31mAttributeError\u001b[0m: ResultSet object has no attribute 'find'. You're probably treating a list of elements like a single element. Did you call find_all() when you meant to call find()?"
     ]
    }
   ],
   "source": [
    "list = []\n",
    "for i in script_tags:\n",
    "     title_element = script_tags.find()\n",
    "\n",
    "title= title_element.text.strip()\n",
    "print(title)\n",
    "list.append(title)"
   ]
  },
  {
   "cell_type": "code",
   "execution_count": 17,
   "metadata": {},
   "outputs": [
    {
     "data": {
      "text/plain": [
       "bs4.BeautifulSoup"
      ]
     },
     "execution_count": 17,
     "metadata": {},
     "output_type": "execute_result"
    }
   ],
   "source": [
    "type(soup)"
   ]
  },
  {
   "cell_type": "code",
   "execution_count": null,
   "metadata": {},
   "outputs": [],
   "source": []
  }
 ],
 "metadata": {
  "kernelspec": {
   "display_name": "Python 3",
   "language": "python",
   "name": "python3"
  },
  "language_info": {
   "codemirror_mode": {
    "name": "ipython",
    "version": 3
   },
   "file_extension": ".py",
   "mimetype": "text/x-python",
   "name": "python",
   "nbconvert_exporter": "python",
   "pygments_lexer": "ipython3",
   "version": "3.10.7"
  }
 },
 "nbformat": 4,
 "nbformat_minor": 2
}
